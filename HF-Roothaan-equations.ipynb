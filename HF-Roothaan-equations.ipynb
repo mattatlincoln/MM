{
 "cells": [
  {
   "cell_type": "markdown",
   "id": "79b12ed9",
   "metadata": {},
   "source": [
    "# Solving the many-electron Schrodinger Equation numerically\n",
    "\n",
    "$\\renewcommand{\\vec}[1]{\\mathbf{#1}}$"
   ]
  },
  {
   "cell_type": "markdown",
   "id": "6c482dc7",
   "metadata": {},
   "source": [
    "## Systems\n",
    "\n",
    "- H atom\n",
    "- He ion\n",
    "- He\n",
    "- H2O\n",
    "\n",
    "## Methods\n",
    "\n",
    "HF + DFT\n",
    "\n",
    "## Motion\n",
    "\n",
    "Geometry + MD\n",
    "\n",
    "## Visualisation\n",
    "\n",
    "wavefunctions\n",
    "densities...\n",
    "\n",
    "## something more? \n",
    "\n",
    "periodic?\n",
    "NaCl + water\n"
   ]
  },
  {
   "cell_type": "markdown",
   "id": "d59b8cf6",
   "metadata": {},
   "source": [
    "You have seen the Hartree-Fock equations introduced in Nanophysics. \n",
    "\n",
    "They give a way to solve the Schrodinger equation accounting for the electron-electron interaction within a mean-field approximation. That is, we do not account for where the electrons actually are relative to each other at any instant instead we just allow the electron to interact with the average distribution of the other electrons. \n",
    "\n",
    "Going beyond the mean-field introduces *correlation* into the motion of the different electrons - and get increasingly complicated."
   ]
  },
  {
   "cell_type": "markdown",
   "id": "7246a5ac",
   "metadata": {},
   "source": [
    "## Hartree-Fock equations\n",
    "\n",
    "the many-body wavefunction in HF is given by\n",
    "\n",
    "$$\n",
    "\\Psi(\\vec{x}_i, \\vec{x}_2, \\ldots \\vec{x}_N) = \\frac{1}{\\sqrt{N_e!}} \\begin{vmatrix}\n",
    "\\psi_1(\\vec{x}_1) & \\psi_2(\\vec{x}_1) &\\cdots & \\psi_{N/2}(\\vec{x}_1) \\\\\n",
    "\\psi_1(\\vec{x}_2) & \\psi_2(\\vec{x}_2) &\\cdots & \\psi_{N/2}(\\vec{x}_2) \\\\\n",
    "\\vdots & \\vdots & \\vdots & \\vdots \\\\\n",
    "\\psi_1(\\vec{x}_N) & \\psi_2(\\vec{x}_N) &\\cdots & \\psi_{N/2}(\\vec{x}_N) \\\\\n",
    "\\end{vmatrix}\n",
    "$$\n",
    "\n",
    "We plug this *ansatz* into the many-body Hamiltonian and chug through a bunch of tedious calculations (see notes), introduce a basis set and and eventually it emerges that\n",
    "\n",
    "$\\vec{FC} = \\vec{SCE}$\n",
    "\n",
    "i.e. a set of matrix equations called the Roothaan-Hall equations."
   ]
  },
  {
   "cell_type": "markdown",
   "id": "86ed54c4",
   "metadata": {},
   "source": [
    "## Roothaan-Hall equations\n",
    "\n",
    "the Hartree-Fock equations are a set of non-linear integro-differential equations to be solved subject to a set of conditions (correct number of electrons and orthogonal wave-functions). This is essentially impossible to treat analytically.\n",
    "\n",
    "We can make progress by introducing *basis functions* into the system of equations and, using a trick we used to develop a tight-binding model in Condensed Matter Physics, move from differential equations to matrix equations.\n",
    "\n",
    "To do this we will need to introduce *matrix elements* of the basis functions with respect to each other and of the Hartree-Fock functional."
   ]
  },
  {
   "cell_type": "markdown",
   "id": "bf09e85c",
   "metadata": {},
   "source": [
    "### Approximations\n",
    "\n",
    "Fundamental approximations that we are going to introduce:\n",
    "\n",
    "- Born-Oppenheimer approximation separating motion of nuclei and electrons;\n",
    "- Independent electron approximation: write our many-body wavefunction as *single determinant* built up of single particle wavefunctions;\n",
    "- Write our single particle functions as Linear Combination of Atomic Orbitals (basis-functions)"
   ]
  },
  {
   "cell_type": "markdown",
   "id": "7b15c3fe",
   "metadata": {},
   "source": [
    "## Solving the Roothaan-Hall equations using PYSCF\n",
    "\n",
    "PYSCF is a python library for solving the many-body Schrodinger equation. It has many methods but includes Hartree-Fock method as a starting point for many of them.\n",
    "\n",
    "The website fro PySCF is https://pyscf.org/index.html"
   ]
  },
  {
   "cell_type": "code",
   "execution_count": 1,
   "id": "7883c783",
   "metadata": {},
   "outputs": [],
   "source": [
    "# we can access submodules from pyscf like this\n",
    "import matplotlib.pyplot as plt\n",
    "import numpy as np\n",
    "import pyscf"
   ]
  },
  {
   "cell_type": "markdown",
   "id": "882addb7",
   "metadata": {},
   "source": [
    "As a super quick example let's run a HF model of a water molecule"
   ]
  },
  {
   "cell_type": "code",
   "execution_count": 2,
   "id": "7fa88dc3",
   "metadata": {},
   "outputs": [],
   "source": [
    "# here we create a H2O molecule and run a HF calculation on it using a minimal basis set (STO3G)\n",
    "mol_h2o = pyscf.gto.M(atom = 'O 0 0 0; H 0 1 0; H 0 0 1', basis = 'cc-pVDZ')"
   ]
  },
  {
   "cell_type": "markdown",
   "id": "bec552d7",
   "metadata": {},
   "source": [
    "`mol_h2o` now is our atomistic model of the water molecule."
   ]
  },
  {
   "cell_type": "code",
   "execution_count": 3,
   "id": "e6177a24",
   "metadata": {},
   "outputs": [
    {
     "name": "stdout",
     "output_type": "stream",
     "text": [
      "converged SCF energy = -76.0167894720692\n"
     ]
    }
   ],
   "source": [
    "rhf_h2o = pyscf.scf.RHF(mol_h2o)\n",
    "e_h2o_DZ = rhf_h2o.kernel()"
   ]
  },
  {
   "cell_type": "markdown",
   "id": "31ea14da",
   "metadata": {},
   "source": [
    "### Converging basis sets\n",
    "\n",
    "In principle, the basis sets used are approximations and we should be able to estimate how well we are doing - we can increase the quality of the basis sets by using more gaussian functions allowing more flexibility in the variational solution of the HF equations:"
   ]
  },
  {
   "cell_type": "code",
   "execution_count": 4,
   "id": "50dda972",
   "metadata": {},
   "outputs": [
    {
     "name": "stdout",
     "output_type": "stream",
     "text": [
      "converged SCF energy = -76.0167894720692\n",
      "converged SCF energy = -76.0456257970043\n",
      "converged SCF energy = -76.0530065175422\n",
      "converged SCF energy = -76.0551821620884\n"
     ]
    }
   ],
   "source": [
    "my_basis_sets = ['cc-pVDZ', 'cc-pVTZ', 'cc-pVQZ', 'cc-pV5Z']\n",
    "energy = []\n",
    "for basis in my_basis_sets:\n",
    "    mol_h2o = pyscf.gto.M(atom = 'O 0 0 0; H 0 1 0; H 0 0 1', basis = basis)\n",
    "    rhf_h2o = pyscf.scf.RHF(mol_h2o)\n",
    "    energy.append(rhf_h2o.kernel())"
   ]
  },
  {
   "cell_type": "code",
   "execution_count": 5,
   "id": "a1a9f8c6",
   "metadata": {},
   "outputs": [
    {
     "data": {
      "image/png": "[encoded data removed]",
      "text/plain": [
       "<Figure size 432x288 with 1 Axes>"
      ]
     },
     "metadata": {
      "needs_background": "light"
     },
     "output_type": "display_data"
    }
   ],
   "source": [
    "plt.scatter(my_basis_sets,energy)\n",
    "plt.plot(my_basis_sets,energy)\n",
    "plt.xlabel('basis set')\n",
    "plt.ylabel('total energy (AU)');"
   ]
  },
  {
   "cell_type": "markdown",
   "id": "eed62018",
   "metadata": {},
   "source": [
    "# What is going on numerically?\n",
    "\n",
    "we can dig deeper into PySCF and extract the matrix representation of the Schrodinger equation and see numerically what some of the constituents are: "
   ]
  },
  {
   "cell_type": "code",
   "execution_count": 6,
   "id": "3f8b4a88",
   "metadata": {},
   "outputs": [],
   "source": [
    "import numpy as np\n",
    "from pyscf import ao2mo\n",
    "\n",
    "mol_h2o = pyscf.gto.M(atom = 'O 0 0 0; H 0 1 0; H 0 0 1', basis = 'sto3G')\n",
    "\n",
    "# get the overlap matrix\n",
    "overlap = mol_h2o.intor('int1e_ovlp') \n",
    "\n",
    "# get the one-electron terms - kinetic energy and electron nuclear interaction\n",
    "hkinetic = mol_h2o.intor('int1e_kin') \n",
    "hnuc = mol_h2o.intor_symmetric('int1e_nuc')\n",
    "\n",
    "# get the two-electron terms - electron-electron repulsion elements\n",
    "eri_4fold_ao = mol_h2o.intor('int2e_sph')"
   ]
  },
  {
   "cell_type": "code",
   "execution_count": 7,
   "id": "2659c828",
   "metadata": {},
   "outputs": [
    {
     "data": {
      "text/plain": [
       "((7, 7), (7, 7, 7, 7))"
      ]
     },
     "execution_count": 7,
     "metadata": {},
     "output_type": "execute_result"
    }
   ],
   "source": [
    "# check the shape of the matrices\n",
    "hkinetic.shape, eri_4fold_ao.shape"
   ]
  },
  {
   "cell_type": "code",
   "execution_count": 8,
   "id": "0c7239c1",
   "metadata": {},
   "outputs": [
    {
     "name": "stdout",
     "output_type": "stream",
     "text": [
      "[[ 2.90031999e+01 -1.68010939e-01  0.00000000e+00  0.00000000e+00\n",
      "   0.00000000e+00 -5.12015832e-03 -5.12015832e-03]\n",
      " [-1.68010939e-01  8.08127955e-01  0.00000000e+00  0.00000000e+00\n",
      "   0.00000000e+00  1.09023173e-01  1.09023173e-01]\n",
      " [ 0.00000000e+00  0.00000000e+00  2.52873120e+00  0.00000000e+00\n",
      "   0.00000000e+00  0.00000000e+00  0.00000000e+00]\n",
      " [ 0.00000000e+00  0.00000000e+00  0.00000000e+00  2.52873120e+00\n",
      "   0.00000000e+00  2.52392544e-01  0.00000000e+00]\n",
      " [ 0.00000000e+00  0.00000000e+00  0.00000000e+00  0.00000000e+00\n",
      "   2.52873120e+00  0.00000000e+00  2.52392544e-01]\n",
      " [-5.12015832e-03  1.09023173e-01  0.00000000e+00  2.52392544e-01\n",
      "   0.00000000e+00  7.60031884e-01  1.80967253e-02]\n",
      " [-5.12015832e-03  1.09023173e-01  0.00000000e+00  0.00000000e+00\n",
      "   2.52392544e-01  1.80967253e-02  7.60031884e-01]]\n"
     ]
    }
   ],
   "source": [
    "print(hkinetic)"
   ]
  },
  {
   "cell_type": "code",
   "execution_count": 9,
   "id": "8a04322c",
   "metadata": {},
   "outputs": [
    {
     "name": "stdout",
     "output_type": "stream",
     "text": [
      "[[-6.16768093e+01 -7.43359610e+00  0.00000000e+00 -1.42231889e-02\n",
      "  -1.42231889e-02 -1.57330366e+00 -1.57330366e+00]\n",
      " [-7.43359610e+00 -1.00996038e+01  0.00000000e+00 -1.69721860e-01\n",
      "  -1.69721860e-01 -3.59672783e+00 -3.59672783e+00]\n",
      " [ 0.00000000e+00  0.00000000e+00 -9.95087124e+00  0.00000000e+00\n",
      "   0.00000000e+00  0.00000000e+00  0.00000000e+00]\n",
      " [-1.42231889e-02 -1.69721860e-01  0.00000000e+00 -1.00640216e+01\n",
      "   0.00000000e+00 -2.74859516e+00 -6.09772963e-02]\n",
      " [-1.42231889e-02 -1.69721860e-01  0.00000000e+00  0.00000000e+00\n",
      "  -1.00640216e+01 -6.09772963e-02 -2.74859516e+00]\n",
      " [-1.57330366e+00 -3.59672783e+00  0.00000000e+00 -2.74859516e+00\n",
      "  -6.09772963e-02 -5.70193488e+00 -1.77459817e+00]\n",
      " [-1.57330366e+00 -3.59672783e+00  0.00000000e+00 -6.09772963e-02\n",
      "  -2.74859516e+00 -1.77459817e+00 -5.70193488e+00]]\n"
     ]
    }
   ],
   "source": [
    "print(hnuc)"
   ]
  },
  {
   "cell_type": "code",
   "execution_count": 10,
   "id": "eb11386e",
   "metadata": {},
   "outputs": [
    {
     "name": "stdout",
     "output_type": "stream",
     "text": [
      "[[1.         0.23670394 0.         0.         0.         0.04875181\n",
      "  0.04875181]\n",
      " [0.23670394 1.         0.         0.         0.         0.44714688\n",
      "  0.44714688]\n",
      " [0.         0.         1.         0.         0.         0.\n",
      "  0.        ]\n",
      " [0.         0.         0.         1.         0.         0.37820346\n",
      "  0.        ]\n",
      " [0.         0.         0.         0.         1.         0.\n",
      "  0.37820346]\n",
      " [0.04875181 0.44714688 0.         0.37820346 0.         1.\n",
      "  0.28990152]\n",
      " [0.04875181 0.44714688 0.         0.         0.37820346 0.28990152\n",
      "  1.        ]]\n"
     ]
    }
   ],
   "source": [
    "print(overlap)"
   ]
  },
  {
   "cell_type": "markdown",
   "id": "eb6b0fc9",
   "metadata": {},
   "source": [
    "# Other systems"
   ]
  },
  {
   "cell_type": "code",
   "execution_count": 11,
   "id": "a12c3e91",
   "metadata": {},
   "outputs": [],
   "source": [
    "# here we create a H2O molecule and run a HF calculation on it using a minimal basis set (STO3G)\n",
    "atom_he = pyscf.gto.M(atom = 'He 0 0 0', basis = 'sto3g')"
   ]
  },
  {
   "cell_type": "code",
   "execution_count": 12,
   "id": "8875441e",
   "metadata": {},
   "outputs": [],
   "source": [
    "# get the one-electron terms - kinetic energy and electron nuclear interaction\n",
    "he_kin = atom_he.intor('int1e_kin') \n",
    "he_nuc = atom_he.intor_symmetric('int1e_nuc')\n",
    "\n",
    "# get the two-electron terms - electron-electron repulsion elements\n",
    "he_eri = atom_he.intor('int2e_sph')"
   ]
  },
  {
   "cell_type": "code",
   "execution_count": 13,
   "id": "9cca4d73",
   "metadata": {},
   "outputs": [
    {
     "data": {
      "text/plain": [
       "array([[1.]])"
      ]
     },
     "execution_count": 13,
     "metadata": {},
     "output_type": "execute_result"
    }
   ],
   "source": [
    "he_overlap = atom_he.intor('int1e_ovlp') \n",
    "he_overlap"
   ]
  },
  {
   "cell_type": "code",
   "execution_count": 14,
   "id": "cdc0a20d",
   "metadata": {},
   "outputs": [],
   "source": [
    "he_core = he_kin[0][0]+ he_nuc[0][0]"
   ]
  },
  {
   "cell_type": "code",
   "execution_count": 15,
   "id": "61898885",
   "metadata": {},
   "outputs": [
    {
     "data": {
      "text/plain": [
       "-52.56554983397122"
      ]
     },
     "execution_count": 15,
     "metadata": {},
     "output_type": "execute_result"
    }
   ],
   "source": [
    "he_core*27.2113845"
   ]
  },
  {
   "cell_type": "code",
   "execution_count": 16,
   "id": "aa26a1d3",
   "metadata": {},
   "outputs": [
    {
     "name": "stdout",
     "output_type": "stream",
     "text": [
      "converged SCF energy = -2.80778395753997\n"
     ]
    }
   ],
   "source": [
    "rhf_he = pyscf.scf.RHF(atom_he)\n",
    "e_he = rhf_he.kernel()"
   ]
  },
  {
   "cell_type": "code",
   "execution_count": 17,
   "id": "10329868",
   "metadata": {},
   "outputs": [],
   "source": [
    "atom_h = pyscf.gto.M(atom = 'H 0 0 0', basis = 'sto3g', spin = 1)\n",
    "h_kin = atom_h.intor('int1e_kin') \n",
    "h_nuc = atom_h.intor_symmetric('int1e_nuc')\n",
    "h_core = h_kin[0][0]+ h_nuc[0][0]"
   ]
  },
  {
   "cell_type": "code",
   "execution_count": 18,
   "id": "ceaff8b2",
   "metadata": {},
   "outputs": [
    {
     "data": {
      "text/plain": [
       "-12.696338109024174"
      ]
     },
     "execution_count": 18,
     "metadata": {},
     "output_type": "execute_result"
    }
   ],
   "source": [
    "h_core*27.2113845"
   ]
  },
  {
   "cell_type": "code",
   "execution_count": 19,
   "id": "c814a04e",
   "metadata": {},
   "outputs": [
    {
     "name": "stdout",
     "output_type": "stream",
     "text": [
      "converged SCF energy = -0.466581849557275  <S^2> = 0.75  2S+1 = 2\n"
     ]
    }
   ],
   "source": [
    "uhf_h = pyscf.scf.UHF(atom_h)\n",
    "e_h = uhf_h.kernel()"
   ]
  },
  {
   "cell_type": "markdown",
   "id": "aebc8920",
   "metadata": {},
   "source": [
    "you can also set `charge` and other properties on your 'molecule'"
   ]
  },
  {
   "cell_type": "markdown",
   "id": "b8c12153",
   "metadata": {},
   "source": [
    "## Getting forces from PySCF\n",
    "\n",
    "as well as calculating the electronic structure we can calculate the forces on the nucelei from all the electrons and the other nuclei. These forces can then be used to move the atom to find favourable molecular geometries and / or to run molecular dynamics simulations. \n",
    "\n",
    "We can get the forces from a particular molecular configuration (like mol_h20 we created earlier) using the \n",
    "`mol.nuc_grad_method().grad_nuc()`"
   ]
  },
  {
   "cell_type": "code",
   "execution_count": 16,
   "id": "31c43a5e",
   "metadata": {},
   "outputs": [
    {
     "name": "stdout",
     "output_type": "stream",
     "text": [
      "converged SCF energy = -74.9611711378677\n"
     ]
    },
    {
     "data": {
      "text/plain": [
       "array([[ 0.        ,  2.24022816,  2.24022816],\n",
       "       [ 0.        , -2.3392332 ,  0.09900503],\n",
       "       [ 0.        ,  0.09900503, -2.3392332 ]])"
      ]
     },
     "execution_count": 16,
     "metadata": {},
     "output_type": "execute_result"
    }
   ],
   "source": [
    "grad = mol_h2o.nuc_grad_method().grad_nuc()\n",
    "grad"
   ]
  },
  {
   "cell_type": "markdown",
   "id": "e75bfad1",
   "metadata": {},
   "source": [
    "This is just an array of force vectors - just like we had in our MD code before. \n",
    "\n",
    "Once we have that we can update positions etc exactly as if we were using a classical forcefield (like LJ for instance)."
   ]
  }
 ],
 "metadata": {
  "kernelspec": {
   "display_name": "Python 3 (ipykernel)",
   "language": "python",
   "name": "python3"
  },
  "language_info": {
   "codemirror_mode": {
    "name": "ipython",
    "version": 3
   },
   "file_extension": ".py",
   "mimetype": "text/x-python",
   "name": "python",
   "nbconvert_exporter": "python",
   "pygments_lexer": "ipython3",
   "version": "3.9.7"
  }
 },
 "nbformat": 4,
 "nbformat_minor": 5
}
